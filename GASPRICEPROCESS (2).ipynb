{
 "cells": [
  {
   "cell_type": "code",
   "execution_count": 1,
   "metadata": {
    "id": "7I18JJXM211X"
   },
   "outputs": [],
   "source": [
    "import pandas as pd\n",
    "import matplotlib.pyplot as plt"
   ]
  },
  {
   "cell_type": "code",
   "execution_count": 47,
   "metadata": {
    "id": "qPkHmy_D3Ao2"
   },
   "outputs": [],
   "source": [
    "dataset=pd.read_csv('sso.csv')\n"
   ]
  },
  {
   "cell_type": "code",
   "execution_count": 48,
   "metadata": {
    "colab": {
     "base_uri": "https://localhost:8080/"
    },
    "id": "OdE_mfw23c1l",
    "outputId": "b5fc043a-c467-49b4-93b9-005f544b4c42"
   },
   "outputs": [
    {
     "name": "stdout",
     "output_type": "stream",
     "text": [
      "(190889, 3)\n"
     ]
    }
   ],
   "source": [
    "print(dataset.shape)"
   ]
  },
  {
   "cell_type": "code",
   "execution_count": 49,
   "metadata": {
    "id": "9Ig_v2-t3mph"
   },
   "outputs": [],
   "source": [
    "dataset = dataset.drop_duplicates(subset=['current_block_number'])"
   ]
  },
  {
   "cell_type": "code",
   "execution_count": 50,
   "metadata": {
    "id": "e4T3zNGwgt6s"
   },
   "outputs": [],
   "source": [
    "dataset['current_datetime'] = pd.to_datetime(dataset['current_datetime'] , format='%Y/%m/%d %H:%M:%S')"
   ]
  },
  {
   "cell_type": "code",
   "execution_count": 51,
   "metadata": {
    "id": "sJIrE_jggVvL"
   },
   "outputs": [],
   "source": [
    "# dataset=dataset.drop('latest_block_number',axis=1)"
   ]
  },
  {
   "cell_type": "code",
   "execution_count": 52,
   "metadata": {
    "id": "7DrvttVrR5VC"
   },
   "outputs": [],
   "source": [
    "dataset=dataset.reset_index(drop=True)"
   ]
  },
  {
   "cell_type": "code",
   "execution_count": 53,
   "metadata": {
    "colab": {
     "base_uri": "https://localhost:8080/"
    },
    "id": "QdkJUldS3-HN",
    "outputId": "c20836a4-0d54-471f-d1a2-407cfb54102f"
   },
   "outputs": [
    {
     "data": {
      "text/plain": [
       "(190888, 3)"
      ]
     },
     "execution_count": 53,
     "metadata": {},
     "output_type": "execute_result"
    }
   ],
   "source": [
    "dataset.shape"
   ]
  },
  {
   "cell_type": "code",
   "execution_count": 54,
   "metadata": {
    "colab": {
     "base_uri": "https://localhost:8080/"
    },
    "id": "hKATxrxo3yo1",
    "outputId": "815f8bd1-d834-4f48-d1d8-a798d2c35690"
   },
   "outputs": [
    {
     "data": {
      "text/plain": [
       "current_datetime        datetime64[ns]\n",
       "current_block_number             int64\n",
       "gas_price_Gwei                 float64\n",
       "dtype: object"
      ]
     },
     "execution_count": 54,
     "metadata": {},
     "output_type": "execute_result"
    }
   ],
   "source": [
    "dataset.dtypes"
   ]
  },
  {
   "cell_type": "code",
   "execution_count": 55,
   "metadata": {
    "id": "KcdU9nLK5Lr3"
   },
   "outputs": [],
   "source": [
    "dataset= dataset.sort_values(by='current_block_number')"
   ]
  },
  {
   "cell_type": "code",
   "execution_count": 56,
   "metadata": {
    "id": "zy6FKkSH5R0B"
   },
   "outputs": [],
   "source": [
    "dataset=dataset.reset_index(drop=True)"
   ]
  },
  {
   "cell_type": "code",
   "execution_count": 57,
   "metadata": {
    "id": "y3mteELN1QLh"
   },
   "outputs": [
    {
     "data": {
      "text/html": [
       "<div>\n",
       "<style scoped>\n",
       "    .dataframe tbody tr th:only-of-type {\n",
       "        vertical-align: middle;\n",
       "    }\n",
       "\n",
       "    .dataframe tbody tr th {\n",
       "        vertical-align: top;\n",
       "    }\n",
       "\n",
       "    .dataframe thead th {\n",
       "        text-align: right;\n",
       "    }\n",
       "</style>\n",
       "<table border=\"1\" class=\"dataframe\">\n",
       "  <thead>\n",
       "    <tr style=\"text-align: right;\">\n",
       "      <th></th>\n",
       "      <th>current_datetime</th>\n",
       "      <th>current_block_number</th>\n",
       "      <th>gas_price_Gwei</th>\n",
       "    </tr>\n",
       "  </thead>\n",
       "  <tbody>\n",
       "    <tr>\n",
       "      <th>0</th>\n",
       "      <td>2023-05-20 22:00:00</td>\n",
       "      <td>17303455</td>\n",
       "      <td>29.964259</td>\n",
       "    </tr>\n",
       "    <tr>\n",
       "      <th>1</th>\n",
       "      <td>2023-05-20 22:00:22</td>\n",
       "      <td>17303456</td>\n",
       "      <td>30.383009</td>\n",
       "    </tr>\n",
       "    <tr>\n",
       "      <th>2</th>\n",
       "      <td>2023-05-20 22:00:30</td>\n",
       "      <td>17303457</td>\n",
       "      <td>34.147302</td>\n",
       "    </tr>\n",
       "    <tr>\n",
       "      <th>3</th>\n",
       "      <td>2023-05-20 22:00:47</td>\n",
       "      <td>17303458</td>\n",
       "      <td>33.493214</td>\n",
       "    </tr>\n",
       "    <tr>\n",
       "      <th>4</th>\n",
       "      <td>2023-05-20 22:00:56</td>\n",
       "      <td>17303459</td>\n",
       "      <td>32.922815</td>\n",
       "    </tr>\n",
       "    <tr>\n",
       "      <th>...</th>\n",
       "      <td>...</td>\n",
       "      <td>...</td>\n",
       "      <td>...</td>\n",
       "    </tr>\n",
       "    <tr>\n",
       "      <th>190883</th>\n",
       "      <td>2023-06-21 13:42:41</td>\n",
       "      <td>17528405</td>\n",
       "      <td>14.733470</td>\n",
       "    </tr>\n",
       "    <tr>\n",
       "      <th>190884</th>\n",
       "      <td>2023-06-21 13:42:58</td>\n",
       "      <td>17528406</td>\n",
       "      <td>14.738057</td>\n",
       "    </tr>\n",
       "    <tr>\n",
       "      <th>190885</th>\n",
       "      <td>2023-06-21 13:43:04</td>\n",
       "      <td>17528407</td>\n",
       "      <td>15.067996</td>\n",
       "    </tr>\n",
       "    <tr>\n",
       "      <th>190886</th>\n",
       "      <td>2023-06-21 13:43:20</td>\n",
       "      <td>17528408</td>\n",
       "      <td>14.196629</td>\n",
       "    </tr>\n",
       "    <tr>\n",
       "      <th>190887</th>\n",
       "      <td>2023-06-21 13:43:26</td>\n",
       "      <td>17528409</td>\n",
       "      <td>14.104886</td>\n",
       "    </tr>\n",
       "  </tbody>\n",
       "</table>\n",
       "<p>190888 rows × 3 columns</p>\n",
       "</div>"
      ],
      "text/plain": [
       "          current_datetime  current_block_number  gas_price_Gwei\n",
       "0      2023-05-20 22:00:00              17303455       29.964259\n",
       "1      2023-05-20 22:00:22              17303456       30.383009\n",
       "2      2023-05-20 22:00:30              17303457       34.147302\n",
       "3      2023-05-20 22:00:47              17303458       33.493214\n",
       "4      2023-05-20 22:00:56              17303459       32.922815\n",
       "...                    ...                   ...             ...\n",
       "190883 2023-06-21 13:42:41              17528405       14.733470\n",
       "190884 2023-06-21 13:42:58              17528406       14.738057\n",
       "190885 2023-06-21 13:43:04              17528407       15.067996\n",
       "190886 2023-06-21 13:43:20              17528408       14.196629\n",
       "190887 2023-06-21 13:43:26              17528409       14.104886\n",
       "\n",
       "[190888 rows x 3 columns]"
      ]
     },
     "execution_count": 57,
     "metadata": {},
     "output_type": "execute_result"
    }
   ],
   "source": [
    "dataset"
   ]
  },
  {
   "cell_type": "code",
   "execution_count": 28,
   "metadata": {
    "colab": {
     "base_uri": "https://localhost:8080/"
    },
    "id": "euQeNpMMbU40",
    "outputId": "65156b2f-971d-4529-9276-3f5e6e8a196e"
   },
   "outputs": [],
   "source": [
    "# from datetime import datetime, timedelta\n",
    "\n",
    "# for i in range(0,len(dataset['current_datetime'])):\n",
    "#     # parse the current datetime string using strptime\n",
    "#     dt = datetime.strptime(str(dataset['current_datetime'][i]), '%Y-%m-%d %H:%M:%S')\n",
    "#     new_time =dt - timedelta(hours=2)\n",
    "#     # convert the datetime object to a new datetime string format using strftime\n",
    "#     dataset['current_datetime'][i] = new_time.strftime(\"%Y-%m-%d %H:%M:%S\")\n",
    "   "
   ]
  },
  {
   "cell_type": "code",
   "execution_count": 58,
   "metadata": {
    "colab": {
     "base_uri": "https://localhost:8080/",
     "height": 424
    },
    "id": "K_C2h8UC1kua",
    "outputId": "b18b328d-a427-40d8-951c-4c418fb04012"
   },
   "outputs": [
    {
     "data": {
      "text/html": [
       "<div>\n",
       "<style scoped>\n",
       "    .dataframe tbody tr th:only-of-type {\n",
       "        vertical-align: middle;\n",
       "    }\n",
       "\n",
       "    .dataframe tbody tr th {\n",
       "        vertical-align: top;\n",
       "    }\n",
       "\n",
       "    .dataframe thead th {\n",
       "        text-align: right;\n",
       "    }\n",
       "</style>\n",
       "<table border=\"1\" class=\"dataframe\">\n",
       "  <thead>\n",
       "    <tr style=\"text-align: right;\">\n",
       "      <th></th>\n",
       "      <th>current_datetime</th>\n",
       "      <th>current_block_number</th>\n",
       "      <th>gas_price_Gwei</th>\n",
       "    </tr>\n",
       "  </thead>\n",
       "  <tbody>\n",
       "    <tr>\n",
       "      <th>0</th>\n",
       "      <td>2023-05-20 22:00:00</td>\n",
       "      <td>17303455</td>\n",
       "      <td>29.964259</td>\n",
       "    </tr>\n",
       "    <tr>\n",
       "      <th>1</th>\n",
       "      <td>2023-05-20 22:00:22</td>\n",
       "      <td>17303456</td>\n",
       "      <td>30.383009</td>\n",
       "    </tr>\n",
       "    <tr>\n",
       "      <th>2</th>\n",
       "      <td>2023-05-20 22:00:30</td>\n",
       "      <td>17303457</td>\n",
       "      <td>34.147302</td>\n",
       "    </tr>\n",
       "    <tr>\n",
       "      <th>3</th>\n",
       "      <td>2023-05-20 22:00:47</td>\n",
       "      <td>17303458</td>\n",
       "      <td>33.493214</td>\n",
       "    </tr>\n",
       "    <tr>\n",
       "      <th>4</th>\n",
       "      <td>2023-05-20 22:00:56</td>\n",
       "      <td>17303459</td>\n",
       "      <td>32.922815</td>\n",
       "    </tr>\n",
       "    <tr>\n",
       "      <th>...</th>\n",
       "      <td>...</td>\n",
       "      <td>...</td>\n",
       "      <td>...</td>\n",
       "    </tr>\n",
       "    <tr>\n",
       "      <th>190883</th>\n",
       "      <td>2023-06-21 13:42:41</td>\n",
       "      <td>17528405</td>\n",
       "      <td>14.733470</td>\n",
       "    </tr>\n",
       "    <tr>\n",
       "      <th>190884</th>\n",
       "      <td>2023-06-21 13:42:58</td>\n",
       "      <td>17528406</td>\n",
       "      <td>14.738057</td>\n",
       "    </tr>\n",
       "    <tr>\n",
       "      <th>190885</th>\n",
       "      <td>2023-06-21 13:43:04</td>\n",
       "      <td>17528407</td>\n",
       "      <td>15.067996</td>\n",
       "    </tr>\n",
       "    <tr>\n",
       "      <th>190886</th>\n",
       "      <td>2023-06-21 13:43:20</td>\n",
       "      <td>17528408</td>\n",
       "      <td>14.196629</td>\n",
       "    </tr>\n",
       "    <tr>\n",
       "      <th>190887</th>\n",
       "      <td>2023-06-21 13:43:26</td>\n",
       "      <td>17528409</td>\n",
       "      <td>14.104886</td>\n",
       "    </tr>\n",
       "  </tbody>\n",
       "</table>\n",
       "<p>190888 rows × 3 columns</p>\n",
       "</div>"
      ],
      "text/plain": [
       "          current_datetime  current_block_number  gas_price_Gwei\n",
       "0      2023-05-20 22:00:00              17303455       29.964259\n",
       "1      2023-05-20 22:00:22              17303456       30.383009\n",
       "2      2023-05-20 22:00:30              17303457       34.147302\n",
       "3      2023-05-20 22:00:47              17303458       33.493214\n",
       "4      2023-05-20 22:00:56              17303459       32.922815\n",
       "...                    ...                   ...             ...\n",
       "190883 2023-06-21 13:42:41              17528405       14.733470\n",
       "190884 2023-06-21 13:42:58              17528406       14.738057\n",
       "190885 2023-06-21 13:43:04              17528407       15.067996\n",
       "190886 2023-06-21 13:43:20              17528408       14.196629\n",
       "190887 2023-06-21 13:43:26              17528409       14.104886\n",
       "\n",
       "[190888 rows x 3 columns]"
      ]
     },
     "execution_count": 58,
     "metadata": {},
     "output_type": "execute_result"
    }
   ],
   "source": [
    "dataset"
   ]
  },
  {
   "cell_type": "code",
   "execution_count": 30,
   "metadata": {
    "colab": {
     "base_uri": "https://localhost:8080/"
    },
    "id": "hEOAfwPiyTc1",
    "outputId": "73389bc9-7379-4e0b-8392-cf1d78c0f7ba"
   },
   "outputs": [
    {
     "name": "stderr",
     "output_type": "stream",
     "text": [
      "C:\\Users\\r.kacem\\AppData\\Local\\Temp\\ipykernel_7756\\3642004830.py:8: SettingWithCopyWarning: \n",
      "A value is trying to be set on a copy of a slice from a DataFrame\n",
      "\n",
      "See the caveats in the documentation: https://pandas.pydata.org/pandas-docs/stable/user_guide/indexing.html#returning-a-view-versus-a-copy\n",
      "  dataset['current_datetime'][i] = new_time.strftime(\"%Y-%m-%d %H:%M:%S\")\n"
     ]
    }
   ],
   "source": [
    "# from datetime import datetime, timedelta\n",
    "\n",
    "# for i in range(4290,len(dataset['current_datetime'])):\n",
    "#     # parse the current datetime string using strptime\n",
    "#     dt = datetime.strptime(str(dataset['current_datetime'][i]), '%Y-%m-%d %H:%M:%S')\n",
    "#     new_time =dt - timedelta(hours=2)\n",
    "#     # convert the datetime object to a new datetime string format using strftime\n",
    "#     dataset['current_datetime'][i] = new_time.strftime(\"%Y-%m-%d %H:%M:%S\")\n",
    "   "
   ]
  },
  {
   "cell_type": "code",
   "execution_count": 34,
   "metadata": {
    "colab": {
     "base_uri": "https://localhost:8080/",
     "height": 661
    },
    "id": "ywsl4gzzs1_z",
    "outputId": "c6b306f9-6c72-4c87-b3fd-10187e40595e"
   },
   "outputs": [],
   "source": [
    "# dataset[4289:]"
   ]
  },
  {
   "cell_type": "code",
   "execution_count": 35,
   "metadata": {
    "colab": {
     "base_uri": "https://localhost:8080/",
     "height": 661
    },
    "id": "MOgizz7Sry7B",
    "outputId": "da884eba-f523-4771-a3ca-09e3ed884c72"
   },
   "outputs": [],
   "source": [
    "# dataset[3628:4290]SOFREC"
   ]
  },
  {
   "cell_type": "code",
   "execution_count": 59,
   "metadata": {
    "id": "YagREmjjc7qJ"
   },
   "outputs": [],
   "source": [
    "dataset.to_csv(\"soff.csv\", index=False)\n",
    "# Import the necessary libraries"
   ]
  },
  {
   "cell_type": "code",
   "execution_count": 110,
   "metadata": {
    "colab": {
     "base_uri": "https://localhost:8080/",
     "height": 17
    },
    "id": "-hSuZQCac5Jd",
    "outputId": "86e5b30f-9a40-42bc-81bc-ea5c69dfc32c"
   },
   "outputs": [],
   "source": [
    "# from google.colab import files\n",
    "\n",
    "# # Download the file to your local machine\n",
    "# files.download('API1.csv')"
   ]
  },
  {
   "cell_type": "code",
   "execution_count": 46,
   "metadata": {},
   "outputs": [],
   "source": [
    "\n",
    "df1 = pd.read_csv('s.csv')\n",
    "\n",
    "df10 = pd.read_csv('so.csv')\n",
    "\n",
    "# df12 = pd.read_csv('gast1 (8).csv')\n",
    "# df13 = pd.read_csv('gast1 (9).csv')\n",
    "# df14 = pd.read_csv('15.csv')\n",
    "# df15 = pd.read_csv('26 (1).csv')\n",
    "\n",
    "combined = pd.concat([df1,df10])\n",
    "# ,df3,df4,df5,df6,df7,df8,df9,df10,df11,df12,df13,df14,df15,df16])\n",
    "\n",
    "combined.to_csv('sso.csv', index=False)\n"
   ]
  },
  {
   "cell_type": "code",
   "execution_count": null,
   "metadata": {},
   "outputs": [],
   "source": []
  },
  {
   "cell_type": "code",
   "execution_count": null,
   "metadata": {},
   "outputs": [],
   "source": []
  },
  {
   "cell_type": "code",
   "execution_count": null,
   "metadata": {},
   "outputs": [],
   "source": []
  },
  {
   "cell_type": "code",
   "execution_count": null,
   "metadata": {},
   "outputs": [],
   "source": []
  }
 ],
 "metadata": {
  "colab": {
   "provenance": []
  },
  "kernelspec": {
   "display_name": "Python 3 (ipykernel)",
   "language": "python",
   "name": "python3"
  },
  "language_info": {
   "codemirror_mode": {
    "name": "ipython",
    "version": 3
   },
   "file_extension": ".py",
   "mimetype": "text/x-python",
   "name": "python",
   "nbconvert_exporter": "python",
   "pygments_lexer": "ipython3",
   "version": "3.8.16"
  }
 },
 "nbformat": 4,
 "nbformat_minor": 1
}
